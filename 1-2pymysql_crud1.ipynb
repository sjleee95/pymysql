{
 "cells": [
  {
   "cell_type": "markdown",
   "id": "8a311afc",
   "metadata": {},
   "source": [
    "# 0. pymysql 라이브러리 설치 및 import\n",
    "\n",
    "[mysql 참고]\n",
    "\n",
    "공식 문서 : https://pypi.org/project/PyMySQL/#id3\n",
    "유용한 블로그 : https://www.fun-coding.org/mysql_basic6.html"
   ]
  },
  {
   "cell_type": "code",
   "execution_count": 1,
   "id": "e384f2fb",
   "metadata": {},
   "outputs": [],
   "source": [
    "# 설치 안되어 있으면 설치 하기(python mysql 라이브러리)\n",
    "# pip install PyMySQL"
   ]
  },
  {
   "cell_type": "code",
   "execution_count": 2,
   "id": "abac3d4b",
   "metadata": {},
   "outputs": [],
   "source": [
    "import pymysql "
   ]
  },
  {
   "cell_type": "markdown",
   "id": "3ca7d233",
   "metadata": {},
   "source": [
    "# 1. DB연결(id, pw 잘 관리하기)"
   ]
  },
  {
   "cell_type": "code",
   "execution_count": 4,
   "id": "6111c26c",
   "metadata": {},
   "outputs": [],
   "source": [
    "conn = pymysql.connect(host='localhost', port=3306, user='Kelly', passwd='power123!', db='test_db2', charset='utf8')"
   ]
  },
  {
   "cell_type": "markdown",
   "id": "af14919b",
   "metadata": {},
   "source": [
    "# 2. DB cursor 생성\n",
    "셔틀버스와 같은것, "
   ]
  },
  {
   "cell_type": "code",
   "execution_count": 5,
   "id": "e52b3029",
   "metadata": {},
   "outputs": [],
   "source": [
    "cur = conn.cursor()"
   ]
  },
  {
   "cell_type": "code",
   "execution_count": 30,
   "id": "ef9cd452",
   "metadata": {},
   "outputs": [
    {
     "data": {
      "text/plain": [
       "0"
      ]
     },
     "execution_count": 30,
     "metadata": {},
     "output_type": "execute_result"
    }
   ],
   "source": [
    "cur.execute(\"DROP TABLE items\")"
   ]
  },
  {
   "cell_type": "markdown",
   "id": "c17e1f52",
   "metadata": {},
   "source": [
    "# 3. sql 명령 실행"
   ]
  },
  {
   "cell_type": "code",
   "execution_count": 31,
   "id": "c5e9009f",
   "metadata": {},
   "outputs": [],
   "source": [
    "CREATE_SQL =\"\"\"\n",
    "CREATE TABLE IF NOT EXISTS items(\n",
    "    id integer primary key auto_increment,\n",
    "    code text not null,\n",
    "    name text not null,\n",
    "    price integer null\n",
    ")\n",
    "\n",
    "\"\"\"\n",
    "cur.execute(CREATE_SQL);"
   ]
  },
  {
   "cell_type": "code",
   "execution_count": 32,
   "id": "4c974195",
   "metadata": {},
   "outputs": [
    {
     "data": {
      "text/plain": [
       "1"
      ]
     },
     "execution_count": 32,
     "metadata": {},
     "output_type": "execute_result"
    }
   ],
   "source": [
    "INSERT_SQL = \"INSERT INTO items(code, name, price) VALUES (%s, %s, %s);\"\n",
    "\n",
    "cur.execute(INSERT_SQL, ('A0001', '게이밍 키보드', 38000))"
   ]
  },
  {
   "cell_type": "code",
   "execution_count": 33,
   "id": "89f8a1e9",
   "metadata": {},
   "outputs": [
    {
     "data": {
      "text/plain": [
       "3"
      ]
     },
     "execution_count": 33,
     "metadata": {},
     "output_type": "execute_result"
    }
   ],
   "source": [
    "# 여러개의 데이터를 한꺼번에 넣기\n",
    "data = (\n",
    "    ('A0002', '에어컨 30평형', 2000000),\n",
    "    ('A0003', '최신형 스마트폰', 1000000),\n",
    "    ('A0004', '최신형 노트북', 500000)\n",
    ")\n",
    "\n",
    "cur.executemany(INSERT_SQL, data)"
   ]
  },
  {
   "cell_type": "code",
   "execution_count": 11,
   "id": "1aeb8ec9",
   "metadata": {},
   "outputs": [
    {
     "name": "stdout",
     "output_type": "stream",
     "text": [
      "(6, 'A0001', '게이밍 키보드', 38000)\n",
      "(7, 'A0002', '에어컨 30평형', 2000000)\n",
      "========\n"
     ]
    }
   ],
   "source": [
    "# SELECT문(R)\n",
    "SELECT_SQL1 = \"SELECT * FROM items;\"\n",
    "\n",
    "SELECT_SQL2 = \"SELECT * FROM items LIMIT 2;\"\n",
    "\n",
    "cur.execute(SELECT_SQL2)\n",
    "\n",
    "rows = cur.fetchall()\n",
    "for row in rows:\n",
    "    print(row)\n",
    "print('========')\n",
    "    \n",
    "# 현재에서 4개 가져오기\n",
    "# print('fetch all -> \\n', cur.fetchmany(size=4))"
   ]
  },
  {
   "cell_type": "code",
   "execution_count": 14,
   "id": "361f8e82",
   "metadata": {},
   "outputs": [
    {
     "name": "stdout",
     "output_type": "stream",
     "text": [
      "(6, 'A0001', '게이밍 키보드', 38000)\n",
      "(7, 'A0002', '에어컨 30평형', 2000000)\n",
      "(8, 'A0003', '최신형 스마트폰', 1000000)\n"
     ]
    }
   ],
   "source": [
    "cur.execute(\"select * from items limit 3;\")\n",
    "rows = cur.fetchall()\n",
    "for row in rows:\n",
    "    print(row)"
   ]
  },
  {
   "cell_type": "code",
   "execution_count": 55,
   "id": "e001d9a0",
   "metadata": {},
   "outputs": [
    {
     "name": "stdout",
     "output_type": "stream",
     "text": [
      "('F', Decimal('125819000'), 4609)\n",
      "('M', Decimal('345000'), 13)\n"
     ]
    }
   ],
   "source": [
    "##이건 테이블이 두 개 필요해 (지워도됨)\n",
    "slt_sql = \"\"\"select ui.gender, sum(gmv) as tot_gmv, count(distinct oo.userid) as user_cnt\n",
    "        from online_order oo\n",
    "        join user_info ui on oo.userid = ui.userid \n",
    "        group by 1\n",
    "        order by 2 desc;\n",
    "        \"\"\"\n",
    "\n",
    "slt_sql = \"\"\"select code, sum(price) as tot_price, count(distinct.id) as user_id\n",
    "        from items\n",
    "        \n",
    "cur.execute(slt_sql)\n",
    "rows = cur.fetchall()\n",
    "for row in rows:\n",
    "    print(row)\n"
   ]
  },
  {
   "cell_type": "code",
   "execution_count": 65,
   "id": "5f6fe417",
   "metadata": {},
   "outputs": [
    {
     "data": {
      "text/plain": [
       "0"
      ]
     },
     "execution_count": 65,
     "metadata": {},
     "output_type": "execute_result"
    }
   ],
   "source": [
    "# UPDATE문(U)\n",
    "price = 1500000\n",
    "code = 'A0001'\n",
    "cur.execute(\"UPDATE items set price = %s WHERE code=%s;\", (price, code))"
   ]
  },
  {
   "cell_type": "code",
   "execution_count": 62,
   "id": "a20817e1",
   "metadata": {},
   "outputs": [
    {
     "data": {
      "text/plain": [
       "0"
      ]
     },
     "execution_count": 62,
     "metadata": {},
     "output_type": "execute_result"
    }
   ],
   "source": [
    "# DELETE 문(D)\n",
    "DELETE_SQL = \"DELETE FROM items WHERE code = 'A0001'\"\n",
    "cur.execute(DELETE_SQL)"
   ]
  },
  {
   "cell_type": "markdown",
   "id": "7b901b15",
   "metadata": {},
   "source": [
    "# 4. commit, rollback 실행\n",
    "- 승인(=db 적용), 취소\n",
    "- INSERT, UPDATE, DELETE는 반드시 commit()을 해야 실제 데이터베이스에 반영됨.\n"
   ]
  },
  {
   "cell_type": "code",
   "execution_count": 22,
   "id": "91b0d37f",
   "metadata": {},
   "outputs": [],
   "source": [
    "#conn.rollback()\n",
    "conn.commit()"
   ]
  },
  {
   "cell_type": "markdown",
   "id": "85b2d735",
   "metadata": {},
   "source": [
    "# 5. DB close()"
   ]
  },
  {
   "cell_type": "code",
   "execution_count": 23,
   "id": "d7ae324d",
   "metadata": {},
   "outputs": [],
   "source": [
    "conn.close()"
   ]
  },
  {
   "cell_type": "code",
   "execution_count": null,
   "id": "af00ec19",
   "metadata": {},
   "outputs": [],
   "source": []
  }
 ],
 "metadata": {
  "kernelspec": {
   "display_name": "Python 3 (ipykernel)",
   "language": "python",
   "name": "python3"
  },
  "language_info": {
   "codemirror_mode": {
    "name": "ipython",
    "version": 3
   },
   "file_extension": ".py",
   "mimetype": "text/x-python",
   "name": "python",
   "nbconvert_exporter": "python",
   "pygments_lexer": "ipython3",
   "version": "3.10.14"
  }
 },
 "nbformat": 4,
 "nbformat_minor": 5
}
