{
 "cells": [
  {
   "cell_type": "markdown",
   "id": "8a311afc",
   "metadata": {},
   "source": [
    "# 0. pymysql 라이브러리 설치 및 import\n",
    "\n",
    "[mysql 참고]\n",
    "\n",
    "공식 문서 : https://pypi.org/project/PyMySQL/#id3 <br>\n",
    "유용한 블로그 : https://www.fun-coding.org/mysql_basic6.html <br>"
   ]
  },
  {
   "cell_type": "code",
   "execution_count": 4,
   "id": "e384f2fb",
   "metadata": {},
   "outputs": [
    {
     "name": "stdout",
     "output_type": "stream",
     "text": [
      "Requirement already satisfied: PyMySQL in ./venv/lib/python3.8/site-packages (1.0.2)\n"
     ]
    }
   ],
   "source": [
    "# 설치 안되어 있으면 설치 하기(python mysql 라이브러리)\n",
    "!pip install PyMySQL"
   ]
  },
  {
   "cell_type": "code",
   "execution_count": 3,
   "id": "abac3d4b",
   "metadata": {},
   "outputs": [],
   "source": [
    "import pymysql "
   ]
  },
  {
   "cell_type": "markdown",
   "id": "3ca7d233",
   "metadata": {},
   "source": [
    "# 1. DB연결(id, pw 잘 관리하기)"
   ]
  },
  {
   "cell_type": "code",
   "execution_count": 11,
   "id": "930608c0-8847-49f9-99a9-35eafb83fe70",
   "metadata": {},
   "outputs": [],
   "source": [
    "import os\n",
    "from dotenv import load_dotenv\n",
    "\n",
    "# .env 파일 경로 지정 \n",
    "load_dotenv()\n",
    "\n",
    "# Open AI API 키 설정하기\n",
    "HOST = os.getenv('HOST')\n",
    "PORT = int(os.getenv('PORT'))   \n",
    "USER = os.getenv('USER')\n",
    "PASSWD = os.getenv('PASSWD')\n",
    "DB1 = os.getenv('DB1')"
   ]
  },
  {
   "cell_type": "code",
   "execution_count": 12,
   "id": "6111c26c",
   "metadata": {},
   "outputs": [],
   "source": [
    "conn = pymysql.connect(host=HOST, port=PORT, user=USER, passwd=PASSWD, db=DB1, charset='utf8')"
   ]
  },
  {
   "cell_type": "markdown",
   "id": "af14919b",
   "metadata": {},
   "source": [
    "# 2. DB cursor 생성\n",
    "셔틀버스와 같은것, "
   ]
  },
  {
   "cell_type": "code",
   "execution_count": 13,
   "id": "e52b3029",
   "metadata": {},
   "outputs": [],
   "source": [
    "cursor = conn.cursor()"
   ]
  },
  {
   "cell_type": "code",
   "execution_count": 14,
   "id": "ef9cd452",
   "metadata": {},
   "outputs": [
    {
     "data": {
      "text/plain": [
       "0"
      ]
     },
     "execution_count": 14,
     "metadata": {},
     "output_type": "execute_result"
    }
   ],
   "source": [
    "cursor.execute(\"DROP TABLE items\")"
   ]
  },
  {
   "cell_type": "markdown",
   "id": "c17e1f52",
   "metadata": {},
   "source": [
    "# 3. sql 명령 실행"
   ]
  },
  {
   "cell_type": "code",
   "execution_count": 15,
   "id": "c5e9009f",
   "metadata": {},
   "outputs": [],
   "source": [
    "CREATE_SQL =\"\"\"\n",
    "CREATE TABLE IF NOT EXISTS items(\n",
    "    id integer primary key auto_increment,\n",
    "    code varchar(10) not null,\n",
    "    goods_name varchar(30) not null,\n",
    "    price integer null,\n",
    "    regdate date\n",
    ")\n",
    "\n",
    "\"\"\"\n",
    "cursor.execute(CREATE_SQL);"
   ]
  },
  {
   "cell_type": "code",
   "execution_count": 16,
   "id": "96fc3f12",
   "metadata": {},
   "outputs": [
    {
     "data": {
      "text/plain": [
       "'2024-07-28 20:32:24'"
      ]
     },
     "execution_count": 16,
     "metadata": {},
     "output_type": "execute_result"
    }
   ],
   "source": [
    "from datetime import datetime\n",
    "now_date = datetime.now().strftime('%Y-%m-%d %H:%M:%S')\n",
    "now_date"
   ]
  },
  {
   "cell_type": "code",
   "execution_count": 17,
   "id": "d462cf7e",
   "metadata": {},
   "outputs": [
    {
     "data": {
      "text/plain": [
       "'2024-07-28 20:32:24'"
      ]
     },
     "execution_count": 17,
     "metadata": {},
     "output_type": "execute_result"
    }
   ],
   "source": [
    "now_date"
   ]
  },
  {
   "cell_type": "code",
   "execution_count": 18,
   "id": "4c974195",
   "metadata": {},
   "outputs": [
    {
     "data": {
      "text/plain": [
       "1"
      ]
     },
     "execution_count": 18,
     "metadata": {},
     "output_type": "execute_result"
    }
   ],
   "source": [
    "INSERT_SQL = '''INSERT INTO items(code, goods_name, price, regdate) VALUES (%s, %s, %s, %s);'''\n",
    "insert_data =  ('A0001', '게이밍 키보드', 38000, datetime.now().strftime('%Y-%m-%d %H:%M:%S'))\n",
    "\n",
    "cursor.execute(INSERT_SQL, insert_data)"
   ]
  },
  {
   "cell_type": "code",
   "execution_count": 19,
   "id": "89f8a1e9",
   "metadata": {},
   "outputs": [],
   "source": [
    "# 여러개의 데이터를 한꺼번에 넣기\n",
    "data = (\n",
    "    ('A0002', '에어컨 30평형', 2000000, datetime.now().strftime('%Y-%m-%d %H:%M:%S')),\n",
    "    ('A0003', '최신형 스마트폰', 1000000, datetime.now().strftime('%Y-%m-%d %H:%M:%S')),\n",
    "    ('A0004', '최신형 노트북', 500000, datetime.now().strftime('%Y-%m-%d %H:%M:%S'))\n",
    ")\n",
    "\n",
    "cursor.executemany(INSERT_SQL, data)\n",
    "conn.commit()"
   ]
  },
  {
   "cell_type": "code",
   "execution_count": 21,
   "id": "1aeb8ec9",
   "metadata": {},
   "outputs": [
    {
     "name": "stdout",
     "output_type": "stream",
     "text": [
      "(1, 'A0001', '게이밍 키보드', 38000, datetime.date(2024, 7, 28))\n",
      "(2, 'A0002', '에어컨 30평형', 2000000, datetime.date(2024, 7, 28))\n",
      "========\n"
     ]
    }
   ],
   "source": [
    "# SELECT문(R)\n",
    "SELECT_SQL1 = \"SELECT * FROM items;\"\n",
    "\n",
    "SELECT_SQL2 = \"SELECT * FROM items LIMIT 2;\"\n",
    "\n",
    "cursor.execute(SELECT_SQL2)\n",
    "\n",
    "rows = cursor.fetchall()\n",
    "for row in rows:\n",
    "    print(row)\n",
    "print('========')\n",
    "    \n",
    "# 현재에서 4개 가져오기\n",
    "# print('fetch all -> \\n', cur.fetchmany(size=4))"
   ]
  },
  {
   "cell_type": "code",
   "execution_count": 26,
   "id": "5f6fe417",
   "metadata": {},
   "outputs": [
    {
     "data": {
      "text/plain": [
       "1"
      ]
     },
     "execution_count": 26,
     "metadata": {},
     "output_type": "execute_result"
    }
   ],
   "source": [
    "# UPDATE문(U)\n",
    "price = 1500000\n",
    "code = 'A0001'\n",
    "cursor.execute(\"UPDATE items set price = %s WHERE code=%s;\", (price, code))"
   ]
  },
  {
   "cell_type": "code",
   "execution_count": 27,
   "id": "6d4ad516",
   "metadata": {},
   "outputs": [
    {
     "name": "stdout",
     "output_type": "stream",
     "text": [
      "((1, 'A0001', '게이밍 키보드', 1500000, datetime.date(2024, 7, 28)),)\n",
      "1 A0001 게이밍 키보드 1500000 2024-07-28\n"
     ]
    }
   ],
   "source": [
    "cursor.execute(\"SELECT * FROM items WHERE code='A0001'\")\n",
    "row = cursor.fetchall()\n",
    "print(row)\n",
    "\n",
    "print(row[0][0], row[0][1], row[0][2], row[0][3], row[0][4])\n"
   ]
  },
  {
   "cell_type": "code",
   "execution_count": 28,
   "id": "cee3bb13",
   "metadata": {},
   "outputs": [
    {
     "name": "stdout",
     "output_type": "stream",
     "text": [
      "((1, 'A0001', '게이밍 키보드', 1500000, datetime.date(2024, 7, 28)), (2, 'A0002', '에어컨 30평형', 2000000, datetime.date(2024, 7, 28)), (3, 'A0003', '최신형 스마트폰', 1000000, datetime.date(2024, 7, 28)), (4, 'A0004', '최신형 노트북', 500000, datetime.date(2024, 7, 28)))\n",
      "1\tA0001\t게이밍 키보드\t1500000\t2024-07-28\n",
      "2\tA0002\t에어컨 30평형\t2000000\t2024-07-28\n",
      "3\tA0003\t최신형 스마트폰\t1000000\t2024-07-28\n",
      "4\tA0004\t최신형 노트북\t500000\t2024-07-28\n"
     ]
    }
   ],
   "source": [
    "cursor.execute(\"SELECT * FROM items\")\n",
    "rows = cursor.fetchall()\n",
    "print(rows)\n",
    "# 1행 1레코드 출력\n",
    "for row in rows:\n",
    "  #print(f\"{row[0]}\\t{row[1]}\\t{row[2]}\\t{row[3]}\\t{row[4]}\")\n",
    "  print(\"{}\\t{}\\t{}\\t{}\\t{}\".format(row[0], row[1], row[2], row[3], row[4]))\n",
    "  #print(row)\n",
    "  "
   ]
  },
  {
   "cell_type": "code",
   "execution_count": 30,
   "id": "a20817e1",
   "metadata": {},
   "outputs": [],
   "source": [
    "# DELETE 문(D)\n",
    "DELETE_SQL = \"DELETE FROM items WHERE code = 'A0001'\"\n",
    "cursor.execute(DELETE_SQL)\n",
    "conn.commit()"
   ]
  },
  {
   "cell_type": "code",
   "execution_count": 32,
   "id": "5f7df19e",
   "metadata": {},
   "outputs": [
    {
     "name": "stdout",
     "output_type": "stream",
     "text": [
      "()\n"
     ]
    }
   ],
   "source": [
    "cursor.execute(\"SELECT * FROM items WHERE code='A0001'\")\n",
    "row = cursor.fetchall()\n",
    "print(row)"
   ]
  },
  {
   "cell_type": "code",
   "execution_count": 33,
   "id": "92b40539",
   "metadata": {},
   "outputs": [],
   "source": [
    "INSERT_SQL = '''INSERT INTO items(code, goods_name, price, regdate) VALUES (%s, %s, %s, %s);'''\n",
    "insert_data =  ('A0001', '게이밍 키보드', 38000, datetime.now().strftime('%Y-%m-%d %H:%M:%S'))\n",
    "\n",
    "cursor.execute(INSERT_SQL, insert_data)\n",
    "conn.commit() # DB 시스템의 테이블에 적용"
   ]
  },
  {
   "cell_type": "markdown",
   "id": "7b901b15",
   "metadata": {},
   "source": [
    "# 4. commit, rollback 실행\n",
    "- 승인(=db 적용), 취소\n",
    "- INSERT, UPDATE, DELETE는 반드시 commit()을 해야 실제 데이터베이스에 반영됨.\n"
   ]
  },
  {
   "cell_type": "code",
   "execution_count": 34,
   "id": "23f531b2",
   "metadata": {},
   "outputs": [
    {
     "data": {
      "text/plain": [
       "1"
      ]
     },
     "execution_count": 34,
     "metadata": {},
     "output_type": "execute_result"
    }
   ],
   "source": [
    "INSERT_SQL = '''INSERT INTO items(code, goods_name, price, regdate) VALUES (%s, %s, %s, %s);'''\n",
    "insert_data =  ('A0006', '게이밍 체어2', 200000, datetime.now().strftime('%Y-%m-%d %H:%M:%S'))\n",
    "\n",
    "cursor.execute(INSERT_SQL, insert_data)"
   ]
  },
  {
   "cell_type": "code",
   "execution_count": 35,
   "id": "91b0d37f",
   "metadata": {},
   "outputs": [],
   "source": [
    "#conn.rollback()\n",
    "conn.commit()"
   ]
  },
  {
   "cell_type": "markdown",
   "id": "85b2d735",
   "metadata": {},
   "source": [
    "# 5. DB close()"
   ]
  },
  {
   "cell_type": "code",
   "execution_count": 36,
   "id": "d7ae324d",
   "metadata": {},
   "outputs": [],
   "source": [
    "conn.close()"
   ]
  },
  {
   "cell_type": "code",
   "execution_count": null,
   "id": "af00ec19",
   "metadata": {},
   "outputs": [],
   "source": []
  }
 ],
 "metadata": {
  "interpreter": {
   "hash": "88ee1400d7acc772f83b5e7319ab31df3e761208afb187e29d9e9f9e172f263c"
  },
  "kernelspec": {
   "display_name": "Python 3 (ipykernel)",
   "language": "python",
   "name": "python3"
  },
  "language_info": {
   "codemirror_mode": {
    "name": "ipython",
    "version": 3
   },
   "file_extension": ".py",
   "mimetype": "text/x-python",
   "name": "python",
   "nbconvert_exporter": "python",
   "pygments_lexer": "ipython3",
   "version": "3.10.12"
  }
 },
 "nbformat": 4,
 "nbformat_minor": 5
}
