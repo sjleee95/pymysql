{
 "cells": [
  {
   "cell_type": "markdown",
   "id": "8a311afc",
   "metadata": {},
   "source": [
    "# 0. pymysql 라이브러리 설치 및 import"
   ]
  },
  {
   "cell_type": "code",
   "execution_count": 2,
   "id": "e384f2fb",
   "metadata": {},
   "outputs": [],
   "source": [
    "# 설치 안되어 있으면 설치 하기(python mysql 라이브러리)\n",
    "# !pip install PyMySQL"
   ]
  },
  {
   "cell_type": "code",
   "execution_count": 1,
   "id": "abac3d4b",
   "metadata": {},
   "outputs": [],
   "source": [
    "import pymysql"
   ]
  },
  {
   "cell_type": "markdown",
   "id": "3ca7d233",
   "metadata": {},
   "source": [
    "# 1. DB연결(id, pw 잘 관리하기)"
   ]
  },
  {
   "cell_type": "code",
   "execution_count": 2,
   "id": "6111c26c",
   "metadata": {},
   "outputs": [],
   "source": [
    "#데이터베이스에 연결하기 위한 정의\n",
    "conn = pymysql.connect(host='localhost', port=3306, user='Kelly', passwd='power123!', db='test_db2', charset='utf8')"
   ]
  },
  {
   "cell_type": "markdown",
   "id": "af14919b",
   "metadata": {},
   "source": [
    "# 2. DB cursor 생성\n",
    "셔틀버스와 같은것, "
   ]
  },
  {
   "cell_type": "code",
   "execution_count": 3,
   "id": "e52b3029",
   "metadata": {},
   "outputs": [
    {
     "data": {
      "text/plain": [
       "<pymysql.cursors.Cursor at 0x274b42da050>"
      ]
     },
     "execution_count": 3,
     "metadata": {},
     "output_type": "execute_result"
    }
   ],
   "source": [
    "# DB 테이블과 연결하여 sql문 실행을 위한 객체\n",
    "cur = conn.cursor()\n",
    "cur"
   ]
  },
  {
   "cell_type": "code",
   "execution_count": 32,
   "id": "ef9cd452",
   "metadata": {},
   "outputs": [
    {
     "data": {
      "text/plain": [
       "0"
      ]
     },
     "execution_count": 32,
     "metadata": {},
     "output_type": "execute_result"
    }
   ],
   "source": [
    "# items 테이블 삭제\n",
    "cur.execute(\"DROP TABLE items\")"
   ]
  },
  {
   "cell_type": "markdown",
   "id": "c17e1f52",
   "metadata": {},
   "source": [
    "# 3. sql 명령 실행"
   ]
  },
  {
   "cell_type": "code",
   "execution_count": 6,
   "id": "c5e9009f",
   "metadata": {},
   "outputs": [],
   "source": [
    "#SQL 테이블 설정 #데이터의 테이블 설정을 CREATE_SQL로 정의\n",
    "CREATE_SQL =\"\"\"\n",
    "CREATE TABLE IF NOT EXISTS items(\n",
    "    id integer primary key auto_increment,\n",
    "    code text not null,\n",
    "    name text not null,\n",
    "    price integer null\n",
    ")\n",
    "\"\"\"\n",
    "#SQL로 CREATE 하고 싶은 것을 올리기 위한 execute\n",
    "cur.execute(CREATE_SQL);"
   ]
  },
  {
   "cell_type": "code",
   "execution_count": 25,
   "id": "4c974195",
   "metadata": {},
   "outputs": [
    {
     "data": {
      "text/plain": [
       "1"
      ]
     },
     "execution_count": 25,
     "metadata": {},
     "output_type": "execute_result"
    }
   ],
   "source": [
    "#execute 함수 - Python에서 SQL 명령어 실행\n",
    "\n",
    "INSERT_SQL = \"INSERT INTO items(code, name, price) VALUES (%s, %s, %s);\"\n",
    "\n",
    "cur.execute(INSERT_SQL, ('A0001', '게이밍 키보드', 38000))"
   ]
  },
  {
   "cell_type": "code",
   "execution_count": 8,
   "id": "0b684a31-9439-4cfa-aa8f-000a8af2e931",
   "metadata": {},
   "outputs": [],
   "source": [
    "# commit()은 connection 객체로 해야 함. \n",
    "# 위에 있는 호스트 이름 나와있는 것이 conn객체.\n",
    "# Commit을 호출하여 데이터를 DB에 영구적으로 저장\n",
    "\n",
    "conn. commit()"
   ]
  },
  {
   "cell_type": "code",
   "execution_count": 26,
   "id": "89f8a1e9",
   "metadata": {},
   "outputs": [
    {
     "data": {
      "text/plain": [
       "3"
      ]
     },
     "execution_count": 26,
     "metadata": {},
     "output_type": "execute_result"
    }
   ],
   "source": [
    "# 여러개의 데이터를 한꺼번에 넣기\n",
    "# executemany- 많이 execute 한다.\n",
    "# 데이터도 여러가지\n",
    "data = (\n",
    "    ('A0002', '에어컨 30평형', 2000000),\n",
    "    ('A0003', '최신형 스마트폰', 1000000),\n",
    "    ('A0004', '최신형 노트북', 500000)\n",
    ")\n",
    "\n",
    "cur.executemany(INSERT_SQL, data)"
   ]
  },
  {
   "cell_type": "code",
   "execution_count": 12,
   "id": "1aeb8ec9",
   "metadata": {},
   "outputs": [
    {
     "name": "stdout",
     "output_type": "stream",
     "text": [
      "(1, 'A0001', '게이밍 키보드', 38000)\n",
      "(2, 'A0002', '에어컨 30평형', 2000000)\n",
      "========\n"
     ]
    }
   ],
   "source": [
    "# SELECT문(R)\n",
    "# Select_sql 1은 items 테이블의 모든 데이터를 선택하는 sql 쿼리\n",
    "SELECT_SQL1 = \"SELECT * FROM items;\"\n",
    "# select_sql 2는 items 테이블의 첫 두 레코드만 선택하는 sql 쿼리\n",
    "SELECT_SQL2 = \"SELECT * FROM items LIMIT 2;\"\n",
    "\n",
    "cur.execute(SELECT_SQL2)\n",
    "\n",
    "# cut.fetchall()은 실행된 쿼리의 결과를 모두 가져와서 rows 변수에 저장합니다.\n",
    "rows = cur.fetchall()\n",
    "for row in rows:\n",
    "    print(row)\n",
    "print('========')\n",
    "    \n",
    "# 현재에서 4개 가져오기\n",
    "# print('fetch all -> \\n', cur.fetchmany(size=4))"
   ]
  },
  {
   "cell_type": "code",
   "execution_count": 13,
   "id": "5f6fe417",
   "metadata": {},
   "outputs": [
    {
     "data": {
      "text/plain": [
       "1"
      ]
     },
     "execution_count": 13,
     "metadata": {},
     "output_type": "execute_result"
    }
   ],
   "source": [
    "# UPDATE문(U)\n",
    "UPDATE_SQL = \"\"\"\n",
    "UPDATE items set price = 1500000 \n",
    "WHERE code='A0002'\n",
    "\"\"\"\n",
    "cur.execute(UPDATE_SQL)"
   ]
  },
  {
   "cell_type": "code",
   "execution_count": 10,
   "id": "a20817e1",
   "metadata": {},
   "outputs": [
    {
     "data": {
      "text/plain": [
       "2"
      ]
     },
     "execution_count": 10,
     "metadata": {},
     "output_type": "execute_result"
    }
   ],
   "source": [
    "# DELETE 문(D)\n",
    "DELETE_SQL = \"\"\"\n",
    "DELETE FROM items \n",
    "WHERE code = 'A0001'\n",
    "\"\"\"\n",
    "cur.execute(DELETE_SQL)"
   ]
  },
  {
   "cell_type": "code",
   "execution_count": 23,
   "id": "66d7fc2d-9de5-4be7-a9e7-08b3f0ec5179",
   "metadata": {},
   "outputs": [
    {
     "data": {
      "text/plain": [
       "1"
      ]
     },
     "execution_count": 23,
     "metadata": {},
     "output_type": "execute_result"
    }
   ],
   "source": [
    "DELETE_SQL3 = \"\"\"\n",
    "DELETE FROM items\n",
    "WHERE code = 'A0003'\n",
    "\"\"\"\n",
    "cur.execute(DELETE_SQL3)"
   ]
  },
  {
   "cell_type": "code",
   "execution_count": 47,
   "id": "3084faaf-e184-4b95-82b1-a47b6d3bcb5e",
   "metadata": {},
   "outputs": [
    {
     "data": {
      "text/plain": [
       "1"
      ]
     },
     "execution_count": 47,
     "metadata": {},
     "output_type": "execute_result"
    }
   ],
   "source": [
    "INSERT_SQL = \"\"\"\n",
    "INSERT INTO items(code, name, price) \n",
    "VALUES (%s, %s, %s);\n",
    "\"\"\"\n",
    "\n",
    "cur.execute(INSERT_SQL, ('A0001', '게이밍 키보드', 38000))"
   ]
  },
  {
   "cell_type": "markdown",
   "id": "7b901b15",
   "metadata": {},
   "source": [
    "# 4. commit, rollback 실행\n",
    "- 승인(=db 적용), 취소\n",
    "- INSERT, UPDATE, DELETE는 반드시 commit()을 해야 실제 데이터베이스에 반영됨.\n"
   ]
  },
  {
   "cell_type": "code",
   "execution_count": 27,
   "id": "91b0d37f",
   "metadata": {},
   "outputs": [],
   "source": [
    "# conn.rollback()\n",
    "conn.commit()"
   ]
  },
  {
   "cell_type": "markdown",
   "id": "85b2d735",
   "metadata": {},
   "source": [
    "# 5. DB close()"
   ]
  },
  {
   "cell_type": "code",
   "execution_count": 24,
   "id": "d7ae324d",
   "metadata": {},
   "outputs": [],
   "source": [
    "conn.close()"
   ]
  },
  {
   "cell_type": "code",
   "execution_count": null,
   "id": "fa38762d-32a5-4551-a19e-28ec674efb28",
   "metadata": {},
   "outputs": [],
   "source": []
  }
 ],
 "metadata": {
  "kernelspec": {
   "display_name": "Python 3 (ipykernel)",
   "language": "python",
   "name": "python3"
  },
  "language_info": {
   "codemirror_mode": {
    "name": "ipython",
    "version": 3
   },
   "file_extension": ".py",
   "mimetype": "text/x-python",
   "name": "python",
   "nbconvert_exporter": "python",
   "pygments_lexer": "ipython3",
   "version": "3.10.14"
  }
 },
 "nbformat": 4,
 "nbformat_minor": 5
}
